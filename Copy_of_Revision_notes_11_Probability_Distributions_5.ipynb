{
  "nbformat": 4,
  "nbformat_minor": 0,
  "metadata": {
    "colab": {
      "provenance": [],
      "toc_visible": true,
      "include_colab_link": true
    },
    "kernelspec": {
      "name": "python3",
      "display_name": "Python 3"
    },
    "language_info": {
      "name": "python"
    }
  },
  "cells": [
    {
      "cell_type": "markdown",
      "metadata": {
        "id": "view-in-github",
        "colab_type": "text"
      },
      "source": [
        "<a href=\"https://colab.research.google.com/github/shivraj7/scalar/blob/main/Copy_of_Revision_notes_11_Probability_Distributions_5.ipynb\" target=\"_parent\"><img src=\"https://colab.research.google.com/assets/colab-badge.svg\" alt=\"Open In Colab\"/></a>"
      ]
    },
    {
      "cell_type": "markdown",
      "source": [
        "<font color='red'>**Disclaimer: Please note that any topics that are not covered in today’s lecture will be covered in the next lecture**.</font>"
      ],
      "metadata": {
        "id": "D9s3Dl5di7uK"
      }
    },
    {
      "cell_type": "markdown",
      "source": [
        "## <font color='blue'>Content</font>\n",
        "  \n",
        "\n",
        "- **Exponential Distribution**\n",
        "- **Box-cox transformation**\n",
        "\n",
        "- **Geometric Distribution**\n",
        "  - Mean of Geometric Distribution\n",
        "\n"
      ],
      "metadata": {
        "id": "QIQfMWd_3yqx"
      }
    },
    {
      "cell_type": "markdown",
      "source": [
        "> <font color='purple'>Importing Libraries</font>"
      ],
      "metadata": {
        "id": "LMLEGagc6yWi"
      }
    },
    {
      "cell_type": "code",
      "source": [
        "import numpy as np\n",
        "import pandas as pd\n",
        "import seaborn as sns\n",
        "import matplotlib.pyplot as plt\n",
        "\n",
        "from scipy.stats import poisson, expon, geom"
      ],
      "metadata": {
        "id": "-OHX53UB6y6v"
      },
      "execution_count": null,
      "outputs": []
    },
    {
      "cell_type": "markdown",
      "source": [
        "## <font color='blue'>**Exponential Distribution**"
      ],
      "metadata": {
        "id": "BXJS8JXBDfFd"
      }
    },
    {
      "cell_type": "markdown",
      "source": [
        "### <font color='purple'>**Example: You receive 240 messages per hour on average - assume Poisson distributed. Rate of messages arriving per second is $\\frac{1}{15}.$**</font>\n",
        "\n",
        "> <font color='purple'>**Q1) What is the probability of having no message in 10 seconds?**</font>\n",
        "\n",
        "In this case, we are looking for the probability of k = 0 events (zero messages) in a Poisson distribution.\n",
        "\n",
        "average rate of messages arriving in 10 seconds will be\n",
        "\n",
        "### **Using Poisson Distribution**\n"
      ],
      "metadata": {
        "id": "oFwrTJJPAmyn"
      }
    },
    {
      "cell_type": "code",
      "source": [
        "rate = 10*240/3600 # this is 10 * (lambda) = 10 * 1/15 only\n",
        "\n",
        "poisson.pmf(k=0, mu=10/15)"
      ],
      "metadata": {
        "colab": {
          "base_uri": "https://localhost:8080/"
        },
        "id": "hdhQPwE7AHoa",
        "outputId": "f2a398e7-678a-4ce3-ce9a-6339b18e62f0"
      },
      "execution_count": null,
      "outputs": [
        {
          "output_type": "execute_result",
          "data": {
            "text/plain": [
              "0.513417119032592"
            ]
          },
          "metadata": {},
          "execution_count": 57
        }
      ]
    },
    {
      "cell_type": "markdown",
      "source": [
        "<font color='purple'>**Let's calculate this using poisson distribution formula**</font>  \n",
        "\n",
        "We know the formula for poisson distribution is  \n",
        "\n",
        "- $P[X=k] = \\Large \\frac{λ^k \\ * \\  e^{-λ}}{k!}$   \n",
        "\n",
        "\n",
        "for $P[X=0]$, poisson will be  \n",
        "\n",
        "- = $\\Large \\frac{λ^0 \\ * \\ e^{-10λ}}{0!}$ = $e^{-10λ}$  \n",
        "\n",
        "\n",
        "**Note**:    \n",
        "- $λ$ is rate per second.  \n",
        "- $10λ$ is rate per 10 seconds.\n",
        "\n",
        "\n",
        "Now let's focus on the next question for the moment. Let me know what will be the answer of that question"
      ],
      "metadata": {
        "id": "-IplcYBfL2j3"
      }
    },
    {
      "cell_type": "markdown",
      "source": [
        "\n",
        "> <font color='purple'>**Q2. What is the probability of waiting for more than 10 seconds for the next message?**</font>  \n",
        "\n",
        "\n",
        "If you can see this question and above question is exact same.  \n",
        "\n",
        "In above question we calculated no messages in 10 seconds which also means waiting for more than 10 seconds to get message.  \n",
        "\n",
        "So,\n",
        "- Let T -> denote time to wait for next message\n",
        "\n",
        "> <font color='purple'>Is T is discrete or continuous?</font> -> **continuous**    \n",
        "\n",
        "We can represent this as $P[T>10]$, answer will be same as above\n",
        "\n",
        "- $P[T>10] = \\Large e^{-10λ}$  \n",
        "\n",
        "\n",
        "<br>\n",
        "\n",
        "What if I ask,  \n",
        "\n",
        "> <font color='purple'>**Q3. What is the probability of waiting less than or equal to 10 seconds?**</font>  \n",
        "  \n",
        "We can represent it as $P[T≤10]$\n",
        "\n",
        "It is complement of $P[T>10]$, so to find this we can simply subtract it from 1.    \n",
        "\n",
        "So,  \n",
        "\n",
        "- $P[T≤10] = \\Large 1 - e^{-10λ}$  \n",
        "\n",
        "\n",
        "**This equation is known as exponential equation**, we just derive the formula by solving some questions.  \n",
        "\n",
        "<br>  \n",
        "\n",
        "<font color='purple'>***Generic equation is***</font>,  \n",
        "\n",
        "\n",
        "**$P[T ≤ x] = 1 - e^{-λx}$**\n",
        "\n",
        "Or  \n",
        "\n",
        "If a random variable $X$ follows an exponential distribution, then the **cumulative distribution function (CDF)** of X can be written as:  \n",
        "\n",
        "**$\\Large f(x; \\lambda) =  1 - e^{-λx}$**\n",
        "\n",
        "\n",
        "Where,\n",
        "\n",
        "- $λ$ is rate parameter.\n",
        "- $e$ is a constant roughly equal to 2.718\n",
        "\n",
        "\n",
        "\n",
        "\n",
        "<br>\n",
        "\n",
        "The **probability density function (PDF)** of exponential distribution is given by,  \n",
        "\n",
        "$\\Large f(x; \\lambda) =  λ e^{-λx}$\n",
        "\n",
        "<br>\n",
        "\n",
        "Reciprocal of the rate parameter is referred as **scale** which is calculated as  $(1/λ)$"
      ],
      "metadata": {
        "id": "6g5yGsDlOLbU"
      }
    },
    {
      "cell_type": "markdown",
      "source": [
        "#### <font color='purple'>**Scale Parameter**</font>\n",
        "\n",
        "In exponential distribution the scale parameter is refered as $β$.   \n",
        "\n",
        "Where,  \n",
        "\n",
        "- $β$ = $1/λ$     \n",
        "\n",
        "So,\n",
        "\n",
        "Exponential distribution is also written as,\n",
        "\n",
        "**$\\Large f(x;\\lambda) = 1 - e^\\frac{-x}{β}$**  \n",
        "\n",
        "<br>\n",
        "\n",
        "Solving question number 2 and 3 using **expon()** function\n",
        "\n"
      ],
      "metadata": {
        "id": "uhjoP6uyXHHz"
      }
    },
    {
      "cell_type": "code",
      "source": [
        "# Q2) P[T > 10], scale = 1/rate = 1/(1/15) = 15\n",
        "1- expon.cdf(x=10, scale=15)"
      ],
      "metadata": {
        "colab": {
          "base_uri": "https://localhost:8080/"
        },
        "id": "_TRh91ARB3zO",
        "outputId": "8bd301cf-02aa-4748-f155-00c3cd5111b7"
      },
      "execution_count": null,
      "outputs": [
        {
          "output_type": "execute_result",
          "data": {
            "text/plain": [
              "0.513417119032592"
            ]
          },
          "metadata": {},
          "execution_count": 17
        }
      ]
    },
    {
      "cell_type": "code",
      "source": [
        "# Q3) P[T <= 10]\n",
        "expon.cdf(x=10, scale=15)"
      ],
      "metadata": {
        "colab": {
          "base_uri": "https://localhost:8080/"
        },
        "id": "1bPdQYnBBL4H",
        "outputId": "5fd80149-49f8-4707-f3ce-75100bdbe242"
      },
      "execution_count": null,
      "outputs": [
        {
          "output_type": "execute_result",
          "data": {
            "text/plain": [
              "0.486582880967408"
            ]
          },
          "metadata": {},
          "execution_count": 18
        }
      ]
    },
    {
      "cell_type": "markdown",
      "source": [
        "### <font color='orange'>**Conclusion**</font>\n",
        "\n",
        "Poisson Distribution:\n",
        "\n",
        "- **Use Case:** Models the number of events in a fixed interval of time or space.  \n",
        "\n",
        "- **Example Question:**   \n",
        "\n",
        "  - \"How many customers will enter a store in the next hour?\"  \n",
        "  - \"How many messages will you receive in next 15 mins?\"  \n",
        "  - \"How many calls can the call center expect in the next 30 minutes?\"\n",
        "\n",
        "- **Parameter:** Rate (λ) represents the average number of events in the specified interval.  \n",
        "\n",
        "<br>\n",
        "\n",
        "Exponential Distribution:\n",
        "\n",
        "- **Use Case:** Models the time between consecutive events.  \n",
        "\n",
        "- **Example Question:**   \n",
        "\n",
        "  - \"How long do I have to wait for the next message?\"   \n",
        "  - \"On average, how much time will a customer spend waiting for service in a queue?\"   \n",
        "  - \"How long, on average, will passengers wait between consecutive bus arrivals?\"\n",
        "\n",
        "- **Parameter:** Scale represents the average time between events. It's the reciprocal of the rate.  \n",
        "\n",
        "- **Relation:** Rate and Scale are reciprocals; as one increases, the other decreases."
      ],
      "metadata": {
        "id": "Z1X1J9Ul00Et"
      }
    },
    {
      "cell_type": "markdown",
      "source": [
        "Now, let's solve some examples"
      ],
      "metadata": {
        "id": "ERJvHQpdbBFb"
      }
    },
    {
      "cell_type": "markdown",
      "source": [
        "## <font color='blue'>**Example: exponential distribution**</font>\n",
        "\n",
        "```\n",
        "You are working as a data engineer who has to resolve any bugs/\n",
        "failures of machine learning models in production.\n",
        "The time taken to debug is exponentially distributed with mean of 5 minutes  \n",
        "```\n",
        "\n",
        "> <font color='purple'>Mean of 5 mins: Is it a $λ$ or $β$, how to decide?</font>  \n",
        "\n",
        " 1 bug is solved -> 5 mins. So how many bugs will be solved in 1 mins?  \n",
        "\n",
        "- 1/5. This is nothing but the rate ($λ$) per minute.\n",
        "\n",
        "Now, if $λ = 1/5$, $β = 1/λ = 5$\n",
        "\n",
        "Here mean time is representing $β$ = 5.  \n",
        "\n",
        "<br>  \n",
        "\n",
        "> <font color='purple'>**Q1 Find the probability of debugging in 4 to 5 minutes**</font>  \n",
        "\n",
        "We can represent it as $P[4 < x < 5]$, by using **expon.cdf()**, the probability will be  \n",
        "    \n",
        "\n"
      ],
      "metadata": {
        "id": "beLOvLBsDgGo"
      }
    },
    {
      "cell_type": "code",
      "source": [
        "# P [4 < T < 5] = P [T <= 5] - P[T <= 4]\n",
        "prob = expon.cdf(x=5, scale=5) - expon.cdf(x=4, scale=5)\n",
        "prob"
      ],
      "metadata": {
        "colab": {
          "base_uri": "https://localhost:8080/"
        },
        "id": "02zev9DilE3k",
        "outputId": "0e683b50-eb9b-4baa-ee1c-861e18f2be9b"
      },
      "execution_count": null,
      "outputs": [
        {
          "output_type": "execute_result",
          "data": {
            "text/plain": [
              "0.08144952294577923"
            ]
          },
          "metadata": {},
          "execution_count": 59
        }
      ]
    },
    {
      "cell_type": "markdown",
      "source": [
        "> <font color='purple'>**Q2 Find the probability of needing more than 6 minutes to debug**</font>  \n",
        "\n",
        "Here we want to find $P[x > 6]$"
      ],
      "metadata": {
        "id": "M4mesMoQlxuk"
      }
    },
    {
      "cell_type": "code",
      "source": [
        "prob = 1 - expon.cdf(x=6, scale=5)\n",
        "prob"
      ],
      "metadata": {
        "colab": {
          "base_uri": "https://localhost:8080/"
        },
        "id": "7bAcU6zWmBAN",
        "outputId": "7803e2fa-a605-4bde-a38a-a6c3ab87956d"
      },
      "execution_count": null,
      "outputs": [
        {
          "output_type": "execute_result",
          "data": {
            "text/plain": [
              "0.3011942119122022"
            ]
          },
          "metadata": {},
          "execution_count": 60
        }
      ]
    },
    {
      "cell_type": "markdown",
      "source": [
        "> <font color='purple'>**Q3. Given that you have already spent 3 minutes, what is the probability of needing more than 9 minutes**</font>  \n",
        "\n",
        "- It states that we have already spent 3 minutes trying to solve the bug and we want to find probability of needing total time more than 9 mins.  \n",
        "\n",
        "We can represent it in this way: $P[T>9 | T>3]$  \n",
        "\n",
        "Means, given that we have already 3 minutes, find the probability that it'll take more than 9 minutes.  \n",
        "\n",
        "so,  \n",
        "\n",
        "- $P[T>9 | T>3] = \\Large \\frac{P[(T>9)∩(T>3)]}{P[T>3 ]}$  \n",
        "\n",
        "  $P[T>9 | T>3] = \\Large \\frac{P[T>9]}{P[T>3]}$\n",
        "\n",
        "as if something is greater than 9 will be also greater than 3, so their intersection will return greater than 9 only.  \n",
        "\n",
        "Now, by using expon.cdf() we can calculate the probability"
      ],
      "metadata": {
        "id": "5lLvMdx0mLAs"
      }
    },
    {
      "cell_type": "code",
      "source": [
        "# P[T > 9 | T > 3]\n",
        "prob = (1 - expon.cdf(x=9, scale=5))/(1 - expon.cdf(x=3, scale=5))\n",
        "prob"
      ],
      "metadata": {
        "colab": {
          "base_uri": "https://localhost:8080/"
        },
        "id": "BU6-7d7UEBO0",
        "outputId": "9b779237-5b8e-4218-c7a9-05a93f33919a"
      },
      "execution_count": null,
      "outputs": [
        {
          "output_type": "execute_result",
          "data": {
            "text/plain": [
              "0.30119421191220214"
            ]
          },
          "metadata": {},
          "execution_count": 61
        }
      ]
    },
    {
      "cell_type": "markdown",
      "source": [
        "Now, by conventional formula we can write  \n",
        "\n",
        "$\\Large \\frac{P[T>9]}{P[T>3]} = \\frac{e^{-9λ}}{e^{-3λ}} = e^{-6λ}$  \n",
        "\n",
        "and in the previous question, $P[T > 6] = e^{-6λ}$    \n",
        "\n",
        "So, $P[T > 9 | T > 3] = P[T>6]$\n",
        "\n",
        "Let's verify if we get the same answer for both the equation"
      ],
      "metadata": {
        "id": "AgQIn05Nq733"
      }
    },
    {
      "cell_type": "code",
      "source": [
        "# P[T > 9 | T > 3]\n",
        "prob_1 = (1 - expon.cdf(x=9, scale=5))/(1 - expon.cdf(x=3, scale=5))\n",
        "\n",
        "# P[T>6]\n",
        "prob_2 = 1-expon.cdf(x=6, scale=5)\n",
        "\n",
        "print(prob_1, prob_2)"
      ],
      "metadata": {
        "colab": {
          "base_uri": "https://localhost:8080/"
        },
        "id": "MVmhWHsHr2Tf",
        "outputId": "98b871cf-e43a-47f4-8f4a-4a0c4a6e6084"
      },
      "execution_count": null,
      "outputs": [
        {
          "output_type": "stream",
          "name": "stdout",
          "text": [
            "0.30119421191220214 0.3011942119122022\n"
          ]
        }
      ]
    },
    {
      "cell_type": "markdown",
      "source": [
        "Both the values are same.  \n",
        "\n",
        "This is known as <font color='purple'>**memoryless property**</font> of exponential distribution.  \n",
        "\n",
        "- The fact that you took three minutes so far does not affect how much more you might take to debug\n",
        "\n",
        "> **What is memoryless property?**"
      ],
      "metadata": {
        "id": "QJSfvNP_sQgt"
      }
    },
    {
      "cell_type": "markdown",
      "source": [
        "## <font color='blue'>**Memoryless property of the Exponential distribution:**</font>\n",
        "\n",
        "- The memoryless property essentially means that the time you've already spent on an event doesn't affect the future waiting time.\n",
        "\n",
        "  - In the context of the exponential distribution, it means that the probability of needing more time in the future is the same, regardless of how much time has already passed.\n",
        "\n",
        "<br>\n",
        "\n",
        "- For example, in the first question, we want to find the probability of needing more than 6 minutes to debug. Let's call this event A.   \n",
        "\n",
        "- In the second question, we're interested in the probability of needing more than 9 minutes given that you've already spent 3 minutes, which we'll call event B.\n",
        "\n",
        "  - The memoryless property tells us that the probability of event B, is the same as the probability of event A.\n",
        "\n",
        "  - This is because the exponential distribution treats each moment as if you're starting anew, regardless of the past."
      ],
      "metadata": {
        "id": "zJ5Tyx1rFBVq"
      }
    },
    {
      "cell_type": "markdown",
      "source": [
        "## <font color='blue'>**Box Cox transformation**</font>\n",
        "\n",
        "Now, if you remember in the last lecture we saw about log normal distribution where we were transforming non normal data into normally distributed data using logarithm\n",
        "\n",
        "> <font color='purple'>**Is there any other techniques which can transform non normally distributed data into normally distributed data?**</font>  \n",
        "\n",
        "- In statistics, the **Box-Cox transformation is another technique which is used to stabilize the variance and make a dataset more closely approximate a normal distribution**.  \n",
        "\n",
        "- It is particularly useful when dealing with data that has varying levels of spread and doesn't follow a normal distribution.  \n",
        "\n",
        "<br>\n",
        "\n",
        "**Formula for Box-Cox Transformation:**\n",
        "\n",
        "The basic idea behind this method is <font color='purple'>to find best value for λ such that the transformed data is as close to normally distributed as possible</font>, using the following formula:\n",
        "\n",
        "\n",
        "- $\\Large Y(λ) =  \\frac{Y^λ-1}{λ}$, if $λ \\not= 0$  \n",
        "\n",
        "  $\\Large Y(λ) = ln(Y)$, if $λ = 0$\n",
        "\n",
        "Here:\n",
        "\n",
        "$Y(λ)$ is the transformed variable.  \n",
        "\n",
        "$Y$ is the original variable.  \n",
        "\n",
        "$λ$ is the transformation parameter.  \n",
        "\n",
        "<br>  \n",
        "\n",
        "\n",
        "> <font color='purple'>Q. How to find the optimal value of $λ$:</font>  \n",
        "\n",
        "- The challenge is to find the best value for $λ$ that maximizes the normality of the transformed data.\n",
        "\n",
        "\n",
        "There are some techniques to find optimal value of $λ$\n",
        "\n",
        "1. **maximum liklehood estimation (MLE)**\n",
        "2. **Grid Search**  \n",
        "3. **Q-Q Plot**  \n",
        "4. **Cross validation**\n",
        "\n",
        "Commonly **MLE** is used to find the optimal $λ$ value.  \n",
        "\n",
        "In **SciPy's boxcox function** also, the optimal λ value is found using a maximum likelihood estimation (**MLE**) approach.  \n",
        "\n",
        "We will study this approach in later modules.\n",
        "\n",
        "\n"
      ],
      "metadata": {
        "id": "FzCmPA-L8Du8"
      }
    },
    {
      "cell_type": "markdown",
      "source": [
        "### <font color='blue'>**Example: Box cox transformation in python**</font>  \n",
        "\n",
        "\n",
        "Suppose we generate a random set of 1,000 values that come from an exponential distribution:  \n",
        "\n",
        "\n",
        "\n",
        "\n"
      ],
      "metadata": {
        "id": "Mt2bM8v--ZK-"
      }
    },
    {
      "cell_type": "code",
      "source": [
        "import numpy as np\n",
        "from scipy.stats import boxcox\n",
        "import seaborn as sns\n",
        "\n",
        "#make this example reproducible\n",
        "np.random.seed(0)\n",
        "\n",
        "#generate dataset\n",
        "data = np.random.exponential(size=1000)\n",
        "\n",
        "#plot the distribution of data values\n",
        "sns.distplot(data, hist=False, kde=True)"
      ],
      "metadata": {
        "colab": {
          "base_uri": "https://localhost:8080/",
          "height": 644
        },
        "id": "YisLHzkXFSvg",
        "outputId": "b2047b95-6a88-4255-ee38-3b465bc752e0"
      },
      "execution_count": null,
      "outputs": [
        {
          "output_type": "stream",
          "name": "stderr",
          "text": [
            "<ipython-input-1-a10f852b3520>:12: UserWarning: \n",
            "\n",
            "`distplot` is a deprecated function and will be removed in seaborn v0.14.0.\n",
            "\n",
            "Please adapt your code to use either `displot` (a figure-level function with\n",
            "similar flexibility) or `kdeplot` (an axes-level function for kernel density plots).\n",
            "\n",
            "For a guide to updating your code to use the new functions, please see\n",
            "https://gist.github.com/mwaskom/de44147ed2974457ad6372750bbe5751\n",
            "\n",
            "  sns.distplot(data, hist=False, kde=True)\n"
          ]
        },
        {
          "output_type": "execute_result",
          "data": {
            "text/plain": [
              "<Axes: ylabel='Density'>"
            ]
          },
          "metadata": {},
          "execution_count": 1
        },
        {
          "output_type": "display_data",
          "data": {
            "text/plain": [
              "<Figure size 640x480 with 1 Axes>"
            ],
            "image/png": "[encoded data removed]"
          },
          "metadata": {}
        }
      ]
    },
    {
      "cell_type": "markdown",
      "source": [
        "<br>\n",
        "<br>\n",
        "\n",
        "We can use the **boxcox()** function to find an optimal value of lambda that produces a more normal distribution:"
      ],
      "metadata": {
        "id": "nWLUvHgOFiIb"
      }
    },
    {
      "cell_type": "code",
      "source": [
        "#perform Box-Cox transformation on original data\n",
        "transformed_data, best_lambda = boxcox(data)\n",
        "\n",
        "#plot the distribution of the transformed data values\n",
        "sns.distplot(transformed_data, hist=False, kde=True)\n"
      ],
      "metadata": {
        "colab": {
          "base_uri": "https://localhost:8080/",
          "height": 644
        },
        "id": "GhIvv-seFclJ",
        "outputId": "81251f19-eac3-49d8-cde1-f6d905c4d72d"
      },
      "execution_count": null,
      "outputs": [
        {
          "output_type": "stream",
          "name": "stderr",
          "text": [
            "<ipython-input-2-c622ffd9e6b8>:5: UserWarning: \n",
            "\n",
            "`distplot` is a deprecated function and will be removed in seaborn v0.14.0.\n",
            "\n",
            "Please adapt your code to use either `displot` (a figure-level function with\n",
            "similar flexibility) or `kdeplot` (an axes-level function for kernel density plots).\n",
            "\n",
            "For a guide to updating your code to use the new functions, please see\n",
            "https://gist.github.com/mwaskom/de44147ed2974457ad6372750bbe5751\n",
            "\n",
            "  sns.distplot(transformed_data, hist=False, kde=True)\n"
          ]
        },
        {
          "output_type": "execute_result",
          "data": {
            "text/plain": [
              "<Axes: ylabel='Density'>"
            ]
          },
          "metadata": {},
          "execution_count": 2
        },
        {
          "output_type": "display_data",
          "data": {
            "text/plain": [
              "<Figure size 640x480 with 1 Axes>"
            ],
            "image/png": "[encoded data removed]"
          },
          "metadata": {}
        }
      ]
    },
    {
      "cell_type": "markdown",
      "source": [
        "<br>\n",
        "<br>\n",
        "\n",
        "\n",
        "\n",
        "We can observe that the transformed data follows more of a normal distribution.\n",
        "\n",
        "We can also find the exact lambda value which is used to perform the Box-Cox transformation:"
      ],
      "metadata": {
        "id": "uNawa_XqFt1z"
      }
    },
    {
      "cell_type": "code",
      "source": [
        "#display optimal lambda value\n",
        "print(best_lambda)\n"
      ],
      "metadata": {
        "colab": {
          "base_uri": "https://localhost:8080/"
        },
        "id": "fn0rmmldFur2",
        "outputId": "fb19c483-a1fb-49c6-fc89-126b27de775d"
      },
      "execution_count": null,
      "outputs": [
        {
          "output_type": "stream",
          "name": "stdout",
          "text": [
            "0.2420131978174143\n"
          ]
        }
      ]
    },
    {
      "cell_type": "markdown",
      "source": [
        "The optimal lambda was found to be roughly 0.242.\n",
        "\n",
        "<font color='purple'>Thus, each data value was transformed using the following equation:</font>\n",
        "\n",
        "\n",
        "$\\Large Y(λ) =  \\frac{Y^λ-1}{λ}$, if $λ \\not= 0$\n",
        "\n",
        "Putting the value of lambda in the equation,\n",
        "\n",
        "Transformed_data = $\\Large \\frac{original \\ ^{0.242} - 1}{0.242}$\n",
        "\n",
        "We can confirm this by looking at the values from the original data compared to the transformed data:\n"
      ],
      "metadata": {
        "id": "UiXcxNxoF02e"
      }
    },
    {
      "cell_type": "code",
      "source": [
        "#view first five values of original dataset\n",
        "data[0:5]"
      ],
      "metadata": {
        "colab": {
          "base_uri": "https://localhost:8080/"
        },
        "id": "AbN4YrLXGjyo",
        "outputId": "499d1709-165e-40cd-b6fe-a852781c3118"
      },
      "execution_count": null,
      "outputs": [
        {
          "output_type": "execute_result",
          "data": {
            "text/plain": [
              "array([0.79587451, 1.25593076, 0.92322315, 0.78720115, 0.55104849])"
            ]
          },
          "metadata": {},
          "execution_count": 4
        }
      ]
    },
    {
      "cell_type": "code",
      "source": [
        "#view first five values of transformed dataset\n",
        "transformed_data[0:5]"
      ],
      "metadata": {
        "colab": {
          "base_uri": "https://localhost:8080/"
        },
        "id": "FtkwKx9wGnm4",
        "outputId": "6802bf15-8773-4d9c-cf72-46573d16ff75"
      },
      "execution_count": null,
      "outputs": [
        {
          "output_type": "execute_result",
          "data": {
            "text/plain": [
              "array([-0.22212062,  0.23427768, -0.07911706, -0.23247555, -0.55495228])"
            ]
          },
          "metadata": {},
          "execution_count": 5
        }
      ]
    },
    {
      "cell_type": "markdown",
      "source": [
        "The first value in the original dataset was 0.79587. Thus, we applied the following formula to transform this value:\n",
        "\n",
        "Transformed_data = $\\Large \\frac{0.79587^{0.242} – 1}{0.242}$ = $-0.222$  \n",
        "\n",
        "We can confirm that the first value in the transformed dataset is indeed -0.222."
      ],
      "metadata": {
        "id": "SxHpVUMSGtB_"
      }
    },
    {
      "cell_type": "markdown",
      "source": [
        "### <font color='purple'>Difference between box cox and log normal transformation.</font>\n",
        "\n",
        "- Unlike the log transformation, <font color='purple'>the Box-Cox transformation is not limited to handling right-skewed data</font>.\n",
        "\n",
        "- It is a family of power transformations, and by selecting an appropriate parameter (lambda), <font color='purple'>it can address both positively and negatively skewed data</font>.\n",
        "\n"
      ],
      "metadata": {
        "id": "_4m9Sj34HWz4"
      }
    },
    {
      "cell_type": "markdown",
      "source": [
        "## <font color='blue'>**Geometric Distribution**</font>\n",
        "\n",
        "<font color='purple'>Scenario:</font>  \n",
        "\n",
        "```\n",
        "Imagine you're in a job search, and you're giving interviews until you land your first job.\n",
        "```  \n",
        "\n",
        "> <font color='purple'>**Q1. What are the possible outcomes in this situation?**</font>  \n",
        "\n",
        "- Either you succeed (s) or fail (f) at each interview.  \n",
        "\n",
        "Now,\n",
        "\n",
        "<font color='purple'>Suppose you land a job in the first interview itself:</font>  \n",
        "  - Outcome will be {s}  \n",
        "\n",
        "\n",
        "<font color='purple'>What if you fail in your first interview, so you will give second interview and land a job in your 2nd interview</font>  \n",
        "\n",
        "- Outcome will be {fs}   \n",
        "\n",
        "<font color='purple'>What if you fail in your 2nd interview but land a job in 3rd interview</font>  \n",
        "\n",
        "- Outcome will be {ffs}  \n",
        "\n",
        "<br>  \n",
        "\n",
        "As we mentioned, you will keep giving interviews till you land a job.  \n",
        "\n",
        "So, The sample space for this situation is like a sequence of attempts will be  \n",
        "\n",
        "- <font color='purple'>S = {s, fs, ffs, fffs, ...}</font>\n",
        "\n",
        "\n"
      ],
      "metadata": {
        "id": "G3oZd_w9Wxo0"
      }
    },
    {
      "cell_type": "markdown",
      "source": [
        "Here, we'll use $X$ to represent the number of interviews, and <font color='purple'>$p$ is the success rate</font>, which is let's say **0.1**  \n",
        "\n",
        "- So, **success will be $p$ and failure will be $1-p$**\n",
        "\n",
        "<br>  \n",
        "  \n",
        "Now, let's find the probability of different values of X:  \n",
        "\n",
        "- <font color='purple'>$P(X=1)$:  This is the probability of succeeding in the first interview</font>    \n",
        "  - So $P(X=1) = p = 0.1$.\n",
        "  \n",
        "- <font color='purple'>$P(X=2)$: To get this, you'd fail in the first interview (1-p), then succeed in the second interview (p)</font>,   \n",
        "  - So $P(X=2) = (1-p)*p = 0.9*0.1$.\n",
        "\n",
        "- <font color='purple'>$P(X=3)$: Similarly, you'd fail twice ((1-p) * (1-p)) and then succeed (p)</font>  \n",
        "  - So, $P(X=3) = (1-p)*(1-p)*p = 0.9^2 * 0.1$\n",
        "\n",
        "\n",
        "It will keep going on for X=4, X=5 ...  \n",
        "\n"
      ],
      "metadata": {
        "id": "e-OfTBxGWyni"
      }
    },
    {
      "cell_type": "markdown",
      "source": [
        "**Simplifying we have,**    \n",
        "\n",
        "$P(X=1) = (0.9)^0*(0.1)$  \n",
        "$P(X=2) = (0.9)^1*(0.1)$  \n",
        "$P(X=3) = (0.9)^2*(0.1)$  \n",
        "$P(X=4) = (0.9)^3*(0.1)$  \n",
        "\n",
        "and so on..\n",
        "\n",
        "\n",
        "<font color='purple'>We can see this pattern continues:</font>  \n",
        "$P(X=k) = (0.9)^{k-1}*(0.1)$      \n",
        "\n",
        "Replacing $0.9$ with $(1-p)$ and $0.1$ with $(p)$, we will get\n",
        "\n",
        "- <font color='purple'>**$P(X=k) = (1-p)^{k-1}*p$**</font>  \n",
        "\n",
        "<br>\n",
        "\n",
        "This probability distribution is known as the Geometric Distribution. It tells us the probability of how many attempts it takes to achieve the first success.  \n",
        "\n",
        "In other words,  \n",
        "\n",
        "- <font color='purple'>The geometric distribution is a discrete probability distribution that calculates the probability of the first success occurring during a bernoulli trial</font>.  \n",
        "\n",
        "- This distribution is an example of a Probability Mass Function (PMF) because it calculates likelihood for discrete random variable.\n"
      ],
      "metadata": {
        "id": "5dDj8vc1W0bW"
      }
    },
    {
      "cell_type": "markdown",
      "source": [
        "**Let's look into code**"
      ],
      "metadata": {
        "id": "M5USi1IiW8aK"
      }
    },
    {
      "cell_type": "markdown",
      "source": [
        "Imagine we are flipping a coin and we want to achieve heads on the coin.  \n",
        "\n",
        "Let's see the probability of getting heads in each trials."
      ],
      "metadata": {
        "id": "tAaQ15Fch97Q"
      }
    },
    {
      "cell_type": "code",
      "source": [
        "# p = probability of success\n",
        "p = 0.1"
      ],
      "metadata": {
        "id": "IeEDKxrjWyEK"
      },
      "execution_count": null,
      "outputs": []
    },
    {
      "cell_type": "code",
      "source": [
        "# the number of trials\n",
        "x_vals = np.arange(1, 20)"
      ],
      "metadata": {
        "id": "nqINBB82XB1b"
      },
      "execution_count": null,
      "outputs": []
    },
    {
      "cell_type": "code",
      "source": [
        "# The k = the number of trials, and the p = the probability of success,\n",
        "# using geom.pmf() function we can calculate probability\n",
        "\n",
        "probs_geom = geom.pmf(x_vals, p=p)"
      ],
      "metadata": {
        "id": "zt_GOVmwXWAi"
      },
      "execution_count": null,
      "outputs": []
    },
    {
      "cell_type": "code",
      "source": [
        "sns.barplot(x=x_vals, y=probs_geom)"
      ],
      "metadata": {
        "id": "G3haFP0hXT2I",
        "colab": {
          "base_uri": "https://localhost:8080/",
          "height": 447
        },
        "outputId": "4159f6dc-d424-40a9-e183-0854290e9a0a"
      },
      "execution_count": null,
      "outputs": [
        {
          "output_type": "execute_result",
          "data": {
            "text/plain": [
              "<Axes: >"
            ]
          },
          "metadata": {},
          "execution_count": 36
        },
        {
          "output_type": "display_data",
          "data": {
            "text/plain": [
              "<Figure size 640x480 with 1 Axes>"
            ],
            "image/png": "[encoded data removed]"
          },
          "metadata": {}
        }
      ]
    },
    {
      "cell_type": "markdown",
      "source": [
        "<br>\n",
        "<br>\n",
        "\n",
        "<font color='purple'>Here, each bar is representing the probability of achieving success (getting heads) in a specific number of trials</font>.  \n",
        "\n",
        "Since p is 0.1, the probability of success is relatively low.  "
      ],
      "metadata": {
        "id": "O2kdvl0pk5TW"
      }
    },
    {
      "cell_type": "markdown",
      "source": [
        "### <font color='blue'>**Geometric Distribution Mean (Expected Value)**</font>  \n",
        "\n",
        "In a geometric distribution, the mean (or expectation) is <font color='purple'>the average number of attempts needed to achieve success in a series of trials</font>.   \n",
        "\n",
        "\n",
        "**Imagine a scenario:**   \n",
        "\n",
        "```\n",
        "You are flipping a fair coin repeatedly until you get heads for the first time.\n",
        "You're interested in finding out,\n",
        "on average, how many times you need to flip the coin before you get that first heads.\n",
        "```  \n",
        "\n",
        "This is where the geometric distribution comes into play.  \n",
        "\n",
        "<br>  \n",
        "\n",
        "The mean (or expectation) represents the average number of trials (coin flips, in this case) it takes to achieve the desired outcome (getting heads).   \n",
        "\n",
        "To calculate the mean, you can use the following formula:  \n",
        "\n",
        "- Mean $(μ)$ = $\\Large \\frac{1}{Probability \\ of \\ Success}$  \n",
        "\n",
        "- Or, **$E[X] = 1/p$**  \n",
        "\n",
        "<br>\n",
        "\n",
        "In this case, <font color='purple'>the \"Probability of Success\" is the probability of getting heads on a single coin flip, which is $1/2$</font>.  \n",
        "\n",
        "- So, for our example:\n",
        "\n",
        "  **Mean $(μ) = \\frac{1}{1/2} = 2$**  \n",
        "\n",
        "This means, <font color='purple'>on average, you would need to flip the coin two times before you get heads for the first time</font>.\n",
        "\n",
        "**Note:**  \n",
        "\n",
        "- Keep in mind that this is just an average, and in reality, you might get heads on your first flip or after several more flips.\n"
      ],
      "metadata": {
        "id": "AopiuBjZh7uH"
      }
    },
    {
      "cell_type": "markdown",
      "source": [
        "## <font color='blue'>**Example on geometric distribution**</font>\n",
        "\n",
        "```\n",
        "Suppose we throw a dice till the first time we get 6.\n",
        "(a) What is the probability that we have to throw 4 times?  \n",
        "(b) What is the expected number of throws to get the first 6?  \n",
        "```\n",
        "\n",
        "**Solution:**  \n",
        "\n",
        "First, let's define the probabilities of success and failure  \n",
        "\n",
        "- P(s) = 1/6  \n",
        "- P(f) = 1 - P(s) = 5/6  \n",
        "\n",
        "> (<font color='purple'>a) Probability that we have to throw 4 times</font>.\n",
        "\n",
        "This means, what is the probability that we will obtain 6 on 4th try?.  \n",
        "\n",
        "In other words, <font color='purple'>we failed on first 3 tries and got success on 4th try</font>.\n",
        "\n",
        "By using the geometric distribution formula,  \n",
        "\n",
        "- <font color='purple'>$P(X=4) = (5/6)^3 * (1/6)$</font>    \n",
        "\n",
        "  = $0.0964$  \n",
        "\n",
        "We can implement this in python using **geom.pmf()** function.  \n",
        "\n",
        "\n",
        "\n",
        "\n"
      ],
      "metadata": {
        "id": "hufSBXX8eRf6"
      }
    },
    {
      "cell_type": "code",
      "source": [
        "# probability that we have to throw 4 times is\n",
        "\n",
        "# k = no. of trials and p = success rate\n",
        "prob = geom.pmf(k=4, p=1/6)\n",
        "\n",
        "print(\"Probability that we have to throw 4 times to obtain 6 is \", prob)"
      ],
      "metadata": {
        "colab": {
          "base_uri": "https://localhost:8080/"
        },
        "id": "OcKrsAFNdL49",
        "outputId": "67ef0fa9-c0b7-44a0-f1c2-85a4e6562727"
      },
      "execution_count": null,
      "outputs": [
        {
          "output_type": "stream",
          "name": "stdout",
          "text": [
            "Probability that we have to throw 4 times to obtain 6 is  0.09645061728395063\n"
          ]
        }
      ]
    },
    {
      "cell_type": "markdown",
      "source": [
        "Let's solve the second question:  \n",
        "\n",
        "> <font color='purple'>(b) Expected number of throws to get the first 6?</font>  \n",
        "\n",
        "The expected number of throws can be calculated using this formula,  \n",
        "\n",
        "- **E[X] = 1/p**\n",
        "\n",
        "So, the expected number of throws to get the first 6 is:  \n",
        "\n",
        "- $E[X] = \\frac{1}{1/6} = 6$  \n",
        "\n",
        "<font color='orange'>**Conclusion**</font>  \n",
        "\n",
        "On average, you would need to throw the die 6 times to get the first 6.  \n",
        "\n"
      ],
      "metadata": {
        "id": "0LdLT1x5ebVK"
      }
    },
    {
      "cell_type": "markdown",
      "source": [
        "\n",
        "\n",
        "## <font color='blue'>**Example on geometric mean**</font>\n",
        "\n",
        "```\n",
        "Suppose you are playing a game where success rate of winning a prize is 0.7.  \n",
        "(a) What is the probability of winning a prize on 4th attempt?  \n",
        "(b) What is the probability that you don't win in 2 attempts?  \n",
        "(c) What is the expected number of trials to get the first success?\n",
        "\n",
        "```  \n",
        "\n",
        "**Solution:**  \n",
        "\n",
        "Given,\n",
        "\n",
        "p = 0.7  \n",
        "\n",
        "Let's use geom function to answer questions"
      ],
      "metadata": {
        "id": "_5v3t2uWqyBk"
      }
    },
    {
      "cell_type": "code",
      "source": [
        "# (a) the probability of winning a prize on 4th attempt\n",
        "\n",
        "prob = geom.pmf(k=4, p=0.7)\n",
        "print(\"the probability of winning a prize on 4th attempt is \", prob)"
      ],
      "metadata": {
        "colab": {
          "base_uri": "https://localhost:8080/"
        },
        "id": "k4HckK8o3gvU",
        "outputId": "8f024dd8-0868-4d8d-d7a9-790c7cc5a0de"
      },
      "execution_count": null,
      "outputs": [
        {
          "output_type": "stream",
          "name": "stdout",
          "text": [
            "the probability of winning a prize on 4th attempt is  0.018900000000000007\n"
          ]
        }
      ]
    },
    {
      "cell_type": "markdown",
      "source": [
        "> <font color='purple'>(b) The probability that you don't win in 2 attempts?</font>  \n",
        "\n",
        "To find the probability of not winning in 2 attempts, we <font color='purple'>need to calculate probability of needing more than 2 attempts.</font>  \n",
        "\n",
        "- <font color='purple'>It may take 3 attempts, 4 attempts, 5 attempts or even more.</font> Means, **$P[X>2]$**\n",
        "\n",
        "- We need to **calculate the cumulative probability** of all this attempts  \n",
        "\n",
        "\n",
        "By doing,   \n",
        "\n",
        "**Total probability - (probability of 1st attempt + probability of 2nd attempt)**,  \n",
        "\n",
        "we will get cumulative probability of all the attempts other than 1 and 2.   \n",
        "\n",
        "<br>  \n",
        "\n",
        "Now using **geom.cdf** we can calculate the cumulative probability of first 2 events then subtract it from 1"
      ],
      "metadata": {
        "id": "y3UxYYvR3zu7"
      }
    },
    {
      "cell_type": "code",
      "source": [
        "# (b) the probability that you don't win in 2 attempts\n",
        "\n",
        "# Use the cumulative distribution function (CDF) to find the probability of not winning in 2 attempts\n",
        "prob = geom.cdf(k=2, p=0.7)\n",
        "\n",
        "not_winning_prob = 1 - prob\n",
        "print(\"the probability that you don't win in 2 attempts is \", not_winning_prob)"
      ],
      "metadata": {
        "colab": {
          "base_uri": "https://localhost:8080/"
        },
        "id": "IBnOHy613uR7",
        "outputId": "e71e2b28-aa5b-4569-da1b-5d0300090e25"
      },
      "execution_count": null,
      "outputs": [
        {
          "output_type": "stream",
          "name": "stdout",
          "text": [
            "the probability that you don't win in 2 attempts is  0.09000000000000008\n"
          ]
        }
      ]
    },
    {
      "cell_type": "code",
      "source": [
        "# (c) the expected number of trials to get the first success will be E[X] = 1/p\n",
        "\n",
        "expected = 1/0.7\n",
        "print(\"the expected number of trials to get the first success is \", expected)"
      ],
      "metadata": {
        "colab": {
          "base_uri": "https://localhost:8080/"
        },
        "id": "lhEt5Lq6-itH",
        "outputId": "47dd6ec4-580e-468c-bc85-fd6ecd60febe"
      },
      "execution_count": null,
      "outputs": [
        {
          "output_type": "stream",
          "name": "stdout",
          "text": [
            "the expected number of trials to get the first success is  1.4285714285714286\n"
          ]
        }
      ]
    }
  ]
}