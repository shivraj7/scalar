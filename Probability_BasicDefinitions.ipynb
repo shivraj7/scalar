{
  "nbformat": 4,
  "nbformat_minor": 0,
  "metadata": {
    "colab": {
      "provenance": [],
      "authorship_tag": "ABX9TyPqyl+C8kZ5WUMdGk4ITPMF",
      "include_colab_link": true
    },
    "kernelspec": {
      "name": "python3",
      "display_name": "Python 3"
    },
    "language_info": {
      "name": "python"
    }
  },
  "cells": [
    {
      "cell_type": "markdown",
      "metadata": {
        "id": "view-in-github",
        "colab_type": "text"
      },
      "source": [
        "<a href=\"https://colab.research.google.com/github/shivraj7/scalar/blob/main/Probability_BasicDefinitions.ipynb\" target=\"_parent\"><img src=\"https://colab.research.google.com/assets/colab-badge.svg\" alt=\"Open In Colab\"/></a>"
      ]
    },
    {
      "cell_type": "markdown",
      "source": [],
      "metadata": {
        "id": "Jef30oNXMEE3"
      }
    },
    {
      "cell_type": "markdown",
      "source": [
        "#Agenda\n",
        "Basic def\n",
        "  - Sample space\n",
        "  - event\n",
        "\n",
        "Set operations\n",
        "\n",
        "Probability\n",
        "\n",
        "Mutually exclusive events\n",
        "\n",
        "by Heena\n",
        "\n",
        "books:- https://www.amazon.in/Think-Stats-Allen-B-Downey/dp/9351108562"
      ],
      "metadata": {
        "id": "oHAyvUi7dOyz"
      }
    },
    {
      "cell_type": "code",
      "execution_count": null,
      "metadata": {
        "id": "4Fsmc-F2MC2q"
      },
      "outputs": [],
      "source": []
    }
  ]
}